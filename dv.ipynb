{
 "cells": [
  {
   "cell_type": "code",
   "execution_count": 6,
   "id": "b2838d1f",
   "metadata": {},
   "outputs": [],
   "source": []
  },
  {
   "cell_type": "code",
   "execution_count": null,
   "id": "7942d2ce",
   "metadata": {},
   "outputs": [],
   "source": []
  },
  {
   "cell_type": "code",
   "execution_count": 1,
   "id": "d218de95",
   "metadata": {},
   "outputs": [
    {
     "name": "stdout",
     "output_type": "stream",
     "text": [
      "Data has been saved to C:/Users/DELL/Downloads/DVA2/DVAssignment2/output.csv\n"
     ]
    },
    {
     "name": "stderr",
     "output_type": "stream",
     "text": [
      "C:\\Users\\DELL\\AppData\\Local\\Temp\\ipykernel_16568\\1340928495.py:1: DeprecationWarning: \n",
      "Pyarrow will become a required dependency of pandas in the next major release of pandas (pandas 3.0),\n",
      "(to allow more performant data types, such as the Arrow string type, and better interoperability with other libraries)\n",
      "but was not found to be installed on your system.\n",
      "If this would cause problems for you,\n",
      "please provide us feedback at https://github.com/pandas-dev/pandas/issues/54466\n",
      "        \n",
      "  import pandas as pd\n"
     ]
    }
   ],
   "source": [
    "import pandas as pd\n",
    "# Assuming data_sample.csv is in the same directory\n",
    "data = pd.read_csv(\"C:/Users/DELL/Downloads/DVA2/DVAssignment2/data.csv\")\n",
    "\n",
    "# Calculate Actual Cost and Sold Price\n",
    "data[\"ActualCost\"] = data[\"RawMaterial\"] + data[\"Workmanship\"] + data[\"StorageCost\"]\n",
    "data[\"SoldPrice\"] = data[\"EstimatedCost\"] * 1.1\n",
    "\n",
    "# Calculate Margin of Profit\n",
    "data[\"Margin of Profit\"] = data[\"SoldPrice\"] - data[\"ActualCost\"]\n",
    "\n",
    "# Select desired columns\n",
    "data = data[[\"date\", \"EstimatedCost\", \"RawMaterial\",\n",
    "              \"Workmanship\", \"StorageCost\", \"ActualCost\",\n",
    "              \"SoldPrice\", \"Margin of Profit\"]]\n",
    "\n",
    "# Specify the file path for the output CSV file\n",
    "output_file_path = 'C:/Users/DELL/Downloads/DVA2/DVAssignment2/output.csv'\n",
    "\n",
    "# Save the DataFrame to a CSV file\n",
    "data.to_csv(output_file_path, index=False)\n",
    "\n",
    "print(f'Data has been saved to {output_file_path}')"
   ]
  },
  {
   "cell_type": "code",
   "execution_count": null,
   "id": "b1d6aebb",
   "metadata": {},
   "outputs": [],
   "source": []
  }
 ],
 "metadata": {
  "kernelspec": {
   "display_name": "Python 3 (ipykernel)",
   "language": "python",
   "name": "python3"
  },
  "language_info": {
   "codemirror_mode": {
    "name": "ipython",
    "version": 3
   },
   "file_extension": ".py",
   "mimetype": "text/x-python",
   "name": "python",
   "nbconvert_exporter": "python",
   "pygments_lexer": "ipython3",
   "version": "undefined.undefined.undefined"
  }
 },
 "nbformat": 4,
 "nbformat_minor": 5
}
